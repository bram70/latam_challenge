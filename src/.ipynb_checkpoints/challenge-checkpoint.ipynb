{
 "cells": [
  {
   "cell_type": "markdown",
   "metadata": {},
   "source": [
    "En este archivo puedes escribir lo que estimes conveniente. Te recomendamos detallar tu solución y todas las suposiciones que estás considerando. Aquí puedes ejecutar las funciones que definiste en los otros archivos de la carpeta src, medir el tiempo, memoria, etc."
   ]
  },
  {
   "cell_type": "code",
   "execution_count": 3,
   "metadata": {},
   "outputs": [
    {
     "name": "stdout",
     "output_type": "stream",
     "text": [
      "5.7 s ± 487 ms per loop (mean ± std. dev. of 7 runs, 1 loop each)\n"
     ]
    }
   ],
   "source": [
    "import q1_time\n",
    "\n",
    "file_path = \"/farmers-protest-tweets-2021-2-4.json\"\n",
    "\n",
    "# Time measure for ex.1) q1_time ~= 5.25s\n",
    "%timeit q1_time.q1_time(file_path)"
   ]
  },
  {
   "cell_type": "code",
   "execution_count": 14,
   "metadata": {},
   "outputs": [
    {
     "name": "stdout",
     "output_type": "stream",
     "text": [
      "[(datetime.date(2021, 2, 12), 'ranbirs00614606'), (datetime.date(2021, 2, 13), 'maandee08215437'), (datetime.date(2021, 2, 17), 'raajvinderkaur'), (datetime.date(2021, 2, 16), 'jot__b'), (datetime.date(2021, 2, 14), 'rebelpacifist'), (datetime.date(2021, 2, 18), 'neetuanjle_nitu'), (datetime.date(2021, 2, 15), 'jot__b'), (datetime.date(2021, 2, 20), 'mangalj23056160'), (datetime.date(2021, 2, 23), 'surrypuria'), (datetime.date(2021, 2, 19), 'preetm91')]\n"
     ]
    }
   ],
   "source": [
    "print(q1_time.q1_time(file_path))"
   ]
  },
  {
   "cell_type": "code",
   "execution_count": 3,
   "metadata": {},
   "outputs": [
    {
     "name": "stdout",
     "output_type": "stream",
     "text": [
      "16.7 s ± 266 ms per loop (mean ± std. dev. of 7 runs, 1 loop each)\n"
     ]
    }
   ],
   "source": [
    "import q1_memory\n",
    "# Time measure for ex.1) q1_memory ~= 8.1 s\n",
    "%timeit q1_memory.q1_memory(file_path)"
   ]
  },
  {
   "cell_type": "code",
   "execution_count": 15,
   "metadata": {},
   "outputs": [
    {
     "name": "stdout",
     "output_type": "stream",
     "text": [
      "[(datetime.date(2021, 2, 12), 'ranbirs00614606'), (datetime.date(2021, 2, 13), 'maandee08215437'), (datetime.date(2021, 2, 17), 'raajvinderkaur'), (datetime.date(2021, 2, 16), 'jot__b'), (datetime.date(2021, 2, 14), 'rebelpacifist'), (datetime.date(2021, 2, 18), 'neetuanjle_nitu'), (datetime.date(2021, 2, 15), 'jot__b'), (datetime.date(2021, 2, 20), 'mangalj23056160'), (datetime.date(2021, 2, 23), 'surrypuria'), (datetime.date(2021, 2, 19), 'preetm91')]\n"
     ]
    }
   ],
   "source": [
    "print(q1_memory.q1_memory(file_path))"
   ]
  },
  {
   "cell_type": "code",
   "execution_count": 5,
   "metadata": {},
   "outputs": [
    {
     "name": "stdout",
     "output_type": "stream",
     "text": [
      "peak memory: 2376.33 MiB, increment: 1585.95 MiB\n"
     ]
    }
   ],
   "source": [
    "%load_ext memory_profiler\n",
    "%memit q1_time.q1_time(file_path)"
   ]
  },
  {
   "cell_type": "code",
   "execution_count": 6,
   "metadata": {
    "scrolled": true
   },
   "outputs": [
    {
     "name": "stdout",
     "output_type": "stream",
     "text": [
      "peak memory: 2770.33 MiB, increment: 1529.69 MiB\n"
     ]
    }
   ],
   "source": [
    "%memit q1_memory.q1_memory(file_path)"
   ]
  },
  {
   "cell_type": "code",
   "execution_count": 4,
   "metadata": {},
   "outputs": [
    {
     "name": "stdout",
     "output_type": "stream",
     "text": [
      "8.04 s ± 288 ms per loop (mean ± std. dev. of 7 runs, 1 loop each)\n"
     ]
    }
   ],
   "source": [
    "import q2_time\n",
    "\n",
    "# Time measure for ex.2) q2_time ~= 3.08s\n",
    "%timeit q2_time.q2_time(file_path)"
   ]
  },
  {
   "cell_type": "code",
   "execution_count": 5,
   "metadata": {},
   "outputs": [
    {
     "name": "stdout",
     "output_type": "stream",
     "text": [
      "[('🙏', 5049), ('😂', 3072), ('🚜', 2972), ('🌾', 2182), ('🤣', 1668), ('✊', 1642), ('❤️', 1382), ('🙏🏻', 1317), ('💚', 1040), ('👇', 873)]\n"
     ]
    }
   ],
   "source": [
    "print(q2_time.q2_time(file_path))"
   ]
  },
  {
   "cell_type": "code",
   "execution_count": 7,
   "metadata": {},
   "outputs": [
    {
     "name": "stdout",
     "output_type": "stream",
     "text": [
      "8.19 s ± 296 ms per loop (mean ± std. dev. of 7 runs, 1 loop each)\n"
     ]
    }
   ],
   "source": [
    "import q2_memory\n",
    "# Time measure for ex.2) q2_time ~= 3.08s\n",
    "%timeit q2_memory.q2_memory(file_path)"
   ]
  },
  {
   "cell_type": "code",
   "execution_count": 8,
   "metadata": {},
   "outputs": [
    {
     "name": "stdout",
     "output_type": "stream",
     "text": [
      "[('🙏', 5049), ('😂', 3072), ('🚜', 2972), ('🌾', 2182), ('🤣', 1668), ('✊', 1642), ('❤️', 1382), ('🙏🏻', 1317), ('💚', 1040), ('👇', 873)]\n"
     ]
    }
   ],
   "source": [
    "print(q2_memory.q2_memory(file_path))"
   ]
  },
  {
   "cell_type": "code",
   "execution_count": 9,
   "metadata": {},
   "outputs": [
    {
     "name": "stdout",
     "output_type": "stream",
     "text": [
      "peak memory: 2764.44 MiB, increment: 1972.00 MiB\n"
     ]
    }
   ],
   "source": [
    "%memit q2_time.q2_time(file_path)"
   ]
  },
  {
   "cell_type": "code",
   "execution_count": 8,
   "metadata": {},
   "outputs": [
    {
     "name": "stdout",
     "output_type": "stream",
     "text": [
      "peak memory: 2654.48 MiB, increment: 1869.31 MiB\n"
     ]
    }
   ],
   "source": [
    "%memit q2_memory.q2_memory(file_path)"
   ]
  },
  {
   "cell_type": "code",
   "execution_count": 10,
   "metadata": {},
   "outputs": [
    {
     "name": "stdout",
     "output_type": "stream",
     "text": [
      "2.8 s ± 136 ms per loop (mean ± std. dev. of 7 runs, 1 loop each)\n"
     ]
    }
   ],
   "source": [
    "import q3_time\n",
    "%timeit q3_time.q3_time(file_path)"
   ]
  },
  {
   "cell_type": "code",
   "execution_count": 19,
   "metadata": {},
   "outputs": [
    {
     "name": "stdout",
     "output_type": "stream",
     "text": [
      "[('narendramodi', 2217), ('kisanektamorcha', 1832), ('rakeshtikaitbku', 1615), ('pmoindia', 1404), ('rahulgandhi', 1128), ('gretathunberg', 1025), ('ravisinghka', 1009), ('unhumanrights', 955), ('rihanna', 953), ('meenaharris', 900)]\n"
     ]
    }
   ],
   "source": [
    "print(q3_time.q3_time(file_path))"
   ]
  },
  {
   "cell_type": "code",
   "execution_count": 11,
   "metadata": {},
   "outputs": [
    {
     "name": "stdout",
     "output_type": "stream",
     "text": [
      "2.88 s ± 225 ms per loop (mean ± std. dev. of 7 runs, 1 loop each)\n"
     ]
    }
   ],
   "source": [
    "import q3_memory\n",
    "%timeit q3_memory.q3_memory(file_path)"
   ]
  },
  {
   "cell_type": "code",
   "execution_count": 20,
   "metadata": {},
   "outputs": [
    {
     "name": "stdout",
     "output_type": "stream",
     "text": [
      "[('narendramodi', 2217), ('kisanektamorcha', 1832), ('rakeshtikaitbku', 1615), ('pmoindia', 1404), ('rahulgandhi', 1128), ('gretathunberg', 1025), ('ravisinghka', 1009), ('unhumanrights', 955), ('rihanna', 953), ('meenaharris', 900)]\n"
     ]
    }
   ],
   "source": [
    "print(q3_memory.q3_memory(file_path))"
   ]
  },
  {
   "cell_type": "code",
   "execution_count": 12,
   "metadata": {},
   "outputs": [
    {
     "name": "stdout",
     "output_type": "stream",
     "text": [
      "peak memory: 2507.69 MiB, increment: 1563.91 MiB\n"
     ]
    }
   ],
   "source": [
    "%memit q3_time.q3_time(file_path)"
   ]
  },
  {
   "cell_type": "code",
   "execution_count": 13,
   "metadata": {},
   "outputs": [
    {
     "name": "stdout",
     "output_type": "stream",
     "text": [
      "peak memory: 2962.03 MiB, increment: 2015.03 MiB\n"
     ]
    }
   ],
   "source": [
    "%memit q3_memory.q3_memory(file_path)"
   ]
  }
 ],
 "metadata": {
  "kernelspec": {
   "display_name": "Python 3 (ipykernel)",
   "language": "python",
   "name": "python3"
  },
  "language_info": {
   "codemirror_mode": {
    "name": "ipython",
    "version": 3
   },
   "file_extension": ".py",
   "mimetype": "text/x-python",
   "name": "python",
   "nbconvert_exporter": "python",
   "pygments_lexer": "ipython3",
   "version": "3.10.13"
  }
 },
 "nbformat": 4,
 "nbformat_minor": 4
}
